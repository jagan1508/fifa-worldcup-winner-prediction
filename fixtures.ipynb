{
 "cells": [
  {
   "cell_type": "code",
   "execution_count": 10,
   "metadata": {},
   "outputs": [
    {
     "name": "stdout",
     "output_type": "stream",
     "text": [
      "Requirement already satisfied: lxml in c:\\users\\jaganath\\anaconda3\\envs\\deep_learning_tut\\lib\\site-packages (5.3.0)\n"
     ]
    }
   ],
   "source": [
    "!pip install lxml "
   ]
  },
  {
   "cell_type": "code",
   "execution_count": 23,
   "metadata": {},
   "outputs": [],
   "source": [
    "from bs4 import BeautifulSoup\n",
    "import requests\n",
    "import pandas as pd"
   ]
  },
  {
   "cell_type": "code",
   "execution_count": 2,
   "metadata": {},
   "outputs": [],
   "source": [
    "years=[1930,1934,1938,1950,1954,1958,1962,1966,1970,1974,\n",
    "       1978,1982,1986,1990,1994,1998,2002,2006,2010,2014,\n",
    "       2018]"
   ]
  },
  {
   "cell_type": "code",
   "execution_count": 37,
   "metadata": {},
   "outputs": [],
   "source": [
    "def get_matches(year):\n",
    "    web=f\"https://en.wikipedia.org/wiki/{year}_FIFA_World_Cup\"\n",
    "    response=requests.get(web)\n",
    "    content=response.text\n",
    "    soup=BeautifulSoup(content,'lxml')\n",
    "    matches=soup.find_all('div',class_='footballbox')\n",
    "    home=[]\n",
    "    score=[]\n",
    "    away=[]\n",
    "    for match in matches:\n",
    "        home.append(match.find(\"th\",class_=\"fhome\").get_text())\n",
    "        score.append(match.find(\"th\",class_=\"fscore\").get_text())\n",
    "        away.append(match.find(\"th\",class_=\"faway\").get_text())\n",
    "    dict_football={\"home\":home,\"score\":score,\"away\":away}\n",
    "    df_football=pd.DataFrame(dict_football)\n",
    "    df_football[\"year\"]=year\n",
    "    return df_football"
   ]
  },
  {
   "cell_type": "code",
   "execution_count": 38,
   "metadata": {},
   "outputs": [
    {
     "name": "stdout",
     "output_type": "stream",
     "text": [
      "        home         score           away  year\n",
      "0    Russia            5–0   Saudi Arabia  2018\n",
      "1     Egypt            0–1        Uruguay  2018\n",
      "2    Russia            3–1          Egypt  2018\n",
      "3   Uruguay            1–0   Saudi Arabia  2018\n",
      "4   Uruguay            3–0         Russia  2018\n",
      "..       ...           ...            ...   ...\n",
      "59   Russia   2–2 (a.e.t.)        Croatia  2018\n",
      "60   France            1–0        Belgium  2018\n",
      "61  Croatia   2–1 (a.e.t.)        England  2018\n",
      "62  Belgium            2–0        England  2018\n",
      "63   France            4–2        Croatia  2018\n",
      "\n",
      "[64 rows x 4 columns]\n"
     ]
    }
   ],
   "source": [
    "print(get_matches(\"2018\"))"
   ]
  },
  {
   "cell_type": "code",
   "execution_count": 39,
   "metadata": {},
   "outputs": [],
   "source": [
    "fifa=[get_matches(year) for year in years]"
   ]
  },
  {
   "cell_type": "code",
   "execution_count": 40,
   "metadata": {},
   "outputs": [],
   "source": [
    "df_fifa=pd.concat(fifa,ignore_index=True)\n",
    "df_fifa.to_csv(\"fifa_worldcup_historical_data.csv\",index=False)"
   ]
  },
  {
   "cell_type": "code",
   "execution_count": 44,
   "metadata": {},
   "outputs": [],
   "source": [
    "def get_fixtures():\n",
    "    web=\"https://web.archive.org/web/20221115040351/https://en.wikipedia.org/wiki/2022_FIFA_World_Cup\"\n",
    "    response=requests.get(web)\n",
    "    content=response.text\n",
    "    soup=BeautifulSoup(content,'lxml')\n",
    "    matches=soup.find_all('div',class_='footballbox')\n",
    "    home=[]\n",
    "    score=[]\n",
    "    away=[]\n",
    "    for match in matches:\n",
    "        home.append(match.find(\"th\",class_=\"fhome\").get_text())\n",
    "        score.append(match.find(\"th\",class_=\"fscore\").get_text())\n",
    "        away.append(match.find(\"th\",class_=\"faway\").get_text())\n",
    "    dict_football={\"home\":home,\"score\":score,\"away\":away}\n",
    "    df_football=pd.DataFrame(dict_football)\n",
    "    df_football[\"year\"]=\"2022\"\n",
    "    return df_football"
   ]
  },
  {
   "cell_type": "code",
   "execution_count": 45,
   "metadata": {},
   "outputs": [],
   "source": [
    "df_fixture=get_fixtures()"
   ]
  },
  {
   "cell_type": "code",
   "execution_count": 47,
   "metadata": {},
   "outputs": [],
   "source": [
    "df_fixture.to_csv(\"fifa_worldcup_fixtures.csv\",index=False)"
   ]
  },
  {
   "cell_type": "code",
   "execution_count": null,
   "metadata": {},
   "outputs": [],
   "source": []
  }
 ],
 "metadata": {
  "kernelspec": {
   "display_name": "Deep_learning_tut",
   "language": "python",
   "name": "python3"
  },
  "language_info": {
   "codemirror_mode": {
    "name": "ipython",
    "version": 3
   },
   "file_extension": ".py",
   "mimetype": "text/x-python",
   "name": "python",
   "nbconvert_exporter": "python",
   "pygments_lexer": "ipython3",
   "version": "3.12.3"
  }
 },
 "nbformat": 4,
 "nbformat_minor": 2
}
